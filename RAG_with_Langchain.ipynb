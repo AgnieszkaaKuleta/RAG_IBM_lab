{
  "cells": [
    {
      "cell_type": "markdown",
      "metadata": {
        "pycharm": {
          "name": "#%% md\n"
        },
        "id": "-cskXWa7i589"
      },
      "source": [
        "# Retrieval Augmented Generation (RAG) with Langchain\n",
        "*Using IBM Granite Models*"
      ]
    },
    {
      "cell_type": "markdown",
      "metadata": {
        "jupyter": {
          "outputs_hidden": false
        },
        "pycharm": {
          "name": "#%% md\n"
        },
        "id": "lSaMCycui59A"
      },
      "source": [
        "## In this notebook\n",
        "This notebook contains instructions for performing Retrieval Augumented Generation (RAG). RAG is an architectural pattern that can be used to augment the performance of language models by recalling factual information from a knowledge base, and adding that information to the model query. The most common approach in RAG is to create dense vector representations of the knowledge base in order to retrieve text chunks that are semantically similar to a given user query.\n",
        "\n",
        "RAG use cases include:\n",
        "- Customer service: Answering questions about a product or service using facts from the product documentation.\n",
        "- Domain knowledge: Exploring a specialized domain (e.g., finance) using facts from papers or articles in the knowledge base.\n",
        "- News chat: Chatting about current events by calling up relevant recent news articles.\n",
        "\n",
        "In its simplest form, RAG requires 3 steps:\n",
        "\n",
        "- Initial setup:\n",
        "  - Index knowledge-base passages for efficient retrieval. In this recipe, we take embeddings of the passages, and store them in a vector database.\n",
        "- Upon each user query:\n",
        "  - Retrieve relevant passages from the database. In this recipe, we use an embedding of the query to retrieve semantically similar passages.\n",
        "  - Generate a response by feeding retrieved passage into a large language model, along with the user query.\n",
        "  "
      ]
    },
    {
      "cell_type": "markdown",
      "metadata": {
        "jupyter": {
          "outputs_hidden": false
        },
        "pycharm": {
          "name": "#%% md\n"
        },
        "id": "nFa8_1uSi59B"
      },
      "source": [
        "## Setting up the environment"
      ]
    },
    {
      "cell_type": "markdown",
      "metadata": {
        "id": "LPBq6d4ti59B"
      },
      "source": [
        "Install dependencies."
      ]
    },
    {
      "cell_type": "code",
      "execution_count": 14,
      "metadata": {
        "jupyter": {
          "outputs_hidden": false
        },
        "pycharm": {
          "name": "#%%\n"
        },
        "id": "DlY0JtS_i59B",
        "outputId": "67cba482-1de0-4b69-8804-5f1b9047b66e",
        "colab": {
          "base_uri": "https://localhost:8080/"
        }
      },
      "outputs": [
        {
          "output_type": "stream",
          "name": "stdout",
          "text": [
            "::group::Install Dependencies\n",
            "Requirement already satisfied: uv in /usr/local/lib/python3.12/dist-packages (0.9.5)\n",
            "\u001b[2mUsing Python 3.12.12 environment at: /usr\u001b[0m\n",
            "\u001b[2K\u001b[2mResolved \u001b[1m99 packages\u001b[0m \u001b[2min 1.57s\u001b[0m\u001b[0m\n",
            "\u001b[2mAudited \u001b[1m99 packages\u001b[0m \u001b[2min 3ms\u001b[0m\u001b[0m\n",
            "::endgroup::\n"
          ]
        }
      ],
      "source": [
        "! echo \"::group::Install Dependencies\"\n",
        "%pip install uv\n",
        "! uv pip install git+https://github.com/ibm-granite-community/utils.git \\\n",
        "    transformers \\\n",
        "    langchain_classic \\\n",
        "    langchain_community \\\n",
        "    langchain_text_splitters \\\n",
        "    langchain_huggingface sentence_transformers \\\n",
        "    langchain_milvus 'pymilvus[milvus_lite]' \\\n",
        "    'langchain_replicate @ git+https://github.com/ibm-granite-community/langchain-replicate.git' \\\n",
        "    wget\n",
        "! echo \"::endgroup::\""
      ]
    },
    {
      "cell_type": "markdown",
      "metadata": {
        "id": "y4hp4gTqi59C"
      },
      "source": [
        "## Selecting System Components"
      ]
    },
    {
      "cell_type": "markdown",
      "metadata": {
        "id": "bJGEzwy6i59C"
      },
      "source": [
        "### Choose your Embeddings Model"
      ]
    },
    {
      "cell_type": "markdown",
      "metadata": {
        "id": "HEYpIt5xi59D"
      },
      "source": [
        "Specify the model to use for generating embedding vectors from text.\n",
        "\n",
        "To use a model from a provider other than Huggingface, replace this code cell with one from [this Embeddings Model recipe](https://github.com/ibm-granite-community/granite-kitchen/blob/main/recipes/Components/Langchain_Embeddings_Models.ipynb)."
      ]
    },
    {
      "cell_type": "code",
      "execution_count": 25,
      "metadata": {
        "id": "6cgWH-3hi59D"
      },
      "outputs": [],
      "source": [
        "from langchain_huggingface import HuggingFaceEmbeddings\n",
        "from transformers import AutoTokenizer\n",
        "\n",
        "embeddings_model_path = \"ibm-granite/granite-embedding-30m-english\"\n",
        "embeddings_model = HuggingFaceEmbeddings(\n",
        "    model_name=embeddings_model_path,\n",
        ")\n",
        "embeddings_tokenizer = AutoTokenizer.from_pretrained(embeddings_model_path)"
      ]
    },
    {
      "cell_type": "markdown",
      "metadata": {
        "id": "HRVsYKMxi59D"
      },
      "source": [
        "### Choose your Vector Database\n",
        "\n",
        "Specify the database to use for storing and retrieving embedding vectors.\n",
        "\n",
        "To connect to a vector database other than Milvus substitute this code cell with one from [this Vector Store recipe](https://github.com/ibm-granite-community/granite-kitchen/blob/main/recipes/Components/Langchain_Vector_Stores.ipynb)."
      ]
    },
    {
      "cell_type": "code",
      "execution_count": 26,
      "metadata": {
        "id": "8Y7GBcuBi59D",
        "outputId": "89064035-9218-4864-f422-71f6ce2e90d4",
        "colab": {
          "base_uri": "https://localhost:8080/"
        }
      },
      "outputs": [
        {
          "output_type": "stream",
          "name": "stdout",
          "text": [
            "The vector database will be saved to /tmp/milvus_zrv0s5n7.db\n"
          ]
        }
      ],
      "source": [
        "from langchain_milvus import Milvus\n",
        "import tempfile\n",
        "\n",
        "db_file = tempfile.NamedTemporaryFile(prefix=\"milvus_\", suffix=\".db\", delete=False).name\n",
        "print(f\"The vector database will be saved to {db_file}\")\n",
        "\n",
        "vector_db = Milvus(\n",
        "    embedding_function=embeddings_model,\n",
        "    connection_args={\"uri\": db_file},\n",
        "    auto_id=True,\n",
        "    index_params={\"index_type\": \"AUTOINDEX\"},\n",
        ")"
      ]
    },
    {
      "cell_type": "markdown",
      "metadata": {
        "jupyter": {
          "outputs_hidden": false
        },
        "pycharm": {
          "name": "#%% md\n"
        },
        "id": "GToK34H4i59E"
      },
      "source": [
        "### Choose your LLM\n",
        "The LLM will be used for answering the question, given the retrieved text.\n",
        "\n",
        "Select a Granite Code model from the [`ibm-granite`](https://replicate.com/ibm-granite) org on Replicate. Here we use the Replicate Langchain client to connect to the model.\n",
        "\n",
        "To connect to a model on a provider other than Replicate, substitute this code cell with one from the [LLM component recipe](https://github.com/ibm-granite-community/granite-kitchen/blob/main/recipes/Components/Langchain_LLMs.ipynb)."
      ]
    },
    {
      "cell_type": "code",
      "execution_count": 27,
      "metadata": {
        "id": "pEd3Mz9Yi59E"
      },
      "outputs": [],
      "source": [
        "from langchain_replicate import ChatReplicate\n",
        "from ibm_granite_community.notebook_utils import get_env_var\n",
        "\n",
        "model_path = \"ibm-granite/granite-4.0-h-small\"\n",
        "model = ChatReplicate(\n",
        "    model=model_path,\n",
        "    replicate_api_token=get_env_var('REPLICATE_API_TOKEN'),\n",
        ")"
      ]
    },
    {
      "cell_type": "markdown",
      "metadata": {
        "jupyter": {
          "outputs_hidden": false
        },
        "pycharm": {
          "name": "#%% md\n"
        },
        "id": "Xo0415aki59E"
      },
      "source": [
        "## Building the Vector Database\n",
        "\n",
        "In this example, we take the State of the Union speech text, split it into chunks, derive embedding vectors using the embedding model, and load it into the vector database for querying."
      ]
    },
    {
      "cell_type": "markdown",
      "metadata": {
        "id": "xrZOmH5ai59E"
      },
      "source": [
        "### Download the document\n",
        "\n",
        "Here we use President Biden's State of the Union address from March 1, 2022."
      ]
    },
    {
      "cell_type": "code",
      "execution_count": 30,
      "metadata": {
        "jupyter": {
          "outputs_hidden": false
        },
        "pycharm": {
          "name": "#%%\n"
        },
        "id": "yv2Xv9OUi59E"
      },
      "outputs": [],
      "source": [
        "import os\n",
        "import wget\n",
        "\n",
        "filename = 'state_of_the_union.txt'\n",
        "url = 'https://raw.githubusercontent.com/IBM/watson-machine-learning-samples/master/cloud/data/foundation_models/state_of_the_union.txt'\n",
        "\n",
        "if not os.path.isfile(filename):\n",
        "  wget.download(url, out=filename)"
      ]
    },
    {
      "cell_type": "markdown",
      "metadata": {
        "id": "O2Wi9v4Ci59E"
      },
      "source": [
        "### Split the document into chunks\n",
        "\n",
        "Split the document into text segments that can fit into the model's context window."
      ]
    },
    {
      "cell_type": "code",
      "execution_count": 31,
      "metadata": {
        "jupyter": {
          "outputs_hidden": false
        },
        "pycharm": {
          "name": "#%%\n"
        },
        "id": "7jlASaSni59E",
        "outputId": "cef36f25-0914-49c5-af14-09d5aa5292ff",
        "colab": {
          "base_uri": "https://localhost:8080/"
        }
      },
      "outputs": [
        {
          "output_type": "stream",
          "name": "stdout",
          "text": [
            "19 text document chunks created\n"
          ]
        }
      ],
      "source": [
        "from langchain_community.document_loaders import TextLoader\n",
        "from langchain_text_splitters import CharacterTextSplitter\n",
        "\n",
        "loader = TextLoader(filename)\n",
        "documents = loader.load()\n",
        "text_splitter = CharacterTextSplitter.from_huggingface_tokenizer(\n",
        "    tokenizer=embeddings_tokenizer,\n",
        "    chunk_size=embeddings_tokenizer.max_len_single_sentence,\n",
        "    chunk_overlap=0,\n",
        ")\n",
        "texts = text_splitter.split_documents(documents)\n",
        "doc_id = 0\n",
        "for text in texts:\n",
        "    text.metadata[\"doc_id\"] = (doc_id:=doc_id+1)\n",
        "print(f\"{len(texts)} text document chunks created\")"
      ]
    },
    {
      "cell_type": "markdown",
      "metadata": {
        "jupyter": {
          "outputs_hidden": false
        },
        "pycharm": {
          "name": "#%% md\n"
        },
        "id": "6KGqpdVyi59E"
      },
      "source": [
        "### Populate the vector database\n",
        "\n",
        "NOTE: Population of the vector database may take over a minute depending on your embedding model and service."
      ]
    },
    {
      "cell_type": "code",
      "execution_count": 32,
      "metadata": {
        "id": "K_LxjO2Ni59E",
        "outputId": "7467c104-b0e5-41c4-f155-5a43b51b3a3a",
        "colab": {
          "base_uri": "https://localhost:8080/"
        }
      },
      "outputs": [
        {
          "output_type": "stream",
          "name": "stdout",
          "text": [
            "19 documents added to the vector database\n"
          ]
        }
      ],
      "source": [
        "ids = vector_db.add_documents(texts)\n",
        "print(f\"{len(ids)} documents added to the vector database\")"
      ]
    },
    {
      "cell_type": "markdown",
      "metadata": {
        "id": "DHjpqQvKi59F"
      },
      "source": [
        "## Querying the Vector Database"
      ]
    },
    {
      "cell_type": "markdown",
      "metadata": {
        "id": "gDFw_0_ui59F"
      },
      "source": [
        "### Conduct a similarity search\n",
        "\n",
        "Search the database for similar documents by proximity of the embedded vector in vector space."
      ]
    },
    {
      "cell_type": "code",
      "execution_count": 22,
      "metadata": {
        "id": "8euXP-z0i59F",
        "outputId": "8f399cc1-ef5f-449b-b48c-9b2874d7cea2",
        "colab": {
          "base_uri": "https://localhost:8080/"
        }
      },
      "outputs": [
        {
          "output_type": "stream",
          "name": "stdout",
          "text": [
            "4 documents returned\n",
            "page_content='Tonight. I call on the Senate to: Pass the Freedom to Vote Act. Pass the John Lewis Voting Rights Act. And while you’re at it, pass the Disclose Act so Americans can know who is funding our elections. \n",
            "\n",
            "Tonight, I’d like to honor someone who has dedicated his life to serve this country: Justice Stephen Breyer—an Army veteran, Constitutional scholar, and retiring Justice of the United States Supreme Court. Justice Breyer, thank you for your service. \n",
            "\n",
            "One of the most serious constitutional responsibilities a President has is nominating someone to serve on the United States Supreme Court. \n",
            "\n",
            "And I did that 4 days ago, when I nominated Circuit Court of Appeals Judge Ketanji Brown Jackson. One of our nation’s top legal minds, who will continue Justice Breyer’s legacy of excellence. \n",
            "\n",
            "A former top litigator in private practice. A former federal public defender. And from a family of public school educators and police officers. A consensus builder. Since she’s been nominated, she’s received a broad range of support—from the Fraternal Order of Police to former judges appointed by Democrats and Republicans. \n",
            "\n",
            "And if we are to advance liberty and justice, we need to secure the Border and fix the immigration system. \n",
            "\n",
            "We can do both. At our border, we’ve installed new technology like cutting-edge scanners to better detect drug smuggling.  \n",
            "\n",
            "We’ve set up joint patrols with Mexico and Guatemala to catch more human traffickers.  \n",
            "\n",
            "We’re putting in place dedicated immigration judges so families fleeing persecution and violence can have their cases heard faster. \n",
            "\n",
            "We’re securing commitments and supporting partners in South and Central America to host more refugees and secure their own borders. \n",
            "\n",
            "We can do all this while keeping lit the torch of liberty that has led generations of immigrants to this land—my forefathers and so many of yours. \n",
            "\n",
            "Provide a pathway to citizenship for Dreamers, those on temporary status, farm workers, and essential workers. \n",
            "\n",
            "Revise our laws so businesses have the workers they need and families don’t wait decades to reunite. \n",
            "\n",
            "It’s not only the right thing to do—it’s the economically smart thing to do. \n",
            "\n",
            "That’s why immigration reform is supported by everyone from labor unions to religious leaders to the U.S. Chamber of Commerce.' metadata={'doc_id': 15, 'pk': 461762135805394958, 'source': 'state_of_the_union.txt'}\n",
            "================================================================================\n",
            "page_content='That’s why I’ve proposed closing loopholes so the very wealthy don’t pay a lower tax rate than a teacher or a firefighter.  \n",
            "\n",
            "So that’s my plan. It will grow the economy and lower costs for families. \n",
            "\n",
            "So what are we waiting for? Let’s get this done. And while you’re at it, confirm my nominees to the Federal Reserve, which plays a critical role in fighting inflation.  \n",
            "\n",
            "My plan will not only lower costs to give families a fair shot, it will lower the deficit. \n",
            "\n",
            "The previous Administration not only ballooned the deficit with tax cuts for the very wealthy and corporations, it undermined the watchdogs whose job was to keep pandemic relief funds from being wasted. \n",
            "\n",
            "But in my administration, the watchdogs have been welcomed back. \n",
            "\n",
            "We’re going after the criminals who stole billions in relief money meant for small businesses and millions of Americans.  \n",
            "\n",
            "And tonight, I’m announcing that the Justice Department will name a chief prosecutor for pandemic fraud. \n",
            "\n",
            "By the end of this year, the deficit will be down to less than half what it was before I took office.  \n",
            "\n",
            "The only president ever to cut the deficit by more than one trillion dollars in a single year. \n",
            "\n",
            "Lowering your costs also means demanding more competition. \n",
            "\n",
            "I’m a capitalist, but capitalism without competition isn’t capitalism. \n",
            "\n",
            "It’s exploitation—and it drives up prices. \n",
            "\n",
            "When corporations don’t have to compete, their profits go up, your prices go up, and small businesses and family farmers and ranchers go under. \n",
            "\n",
            "We see it happening with ocean carriers moving goods in and out of America. \n",
            "\n",
            "During the pandemic, these foreign-owned companies raised prices by as much as 1,000% and made record profits. \n",
            "\n",
            "Tonight, I’m announcing a crackdown on these companies overcharging American businesses and consumers. \n",
            "\n",
            "And as Wall Street firms take over more nursing homes, quality in those homes has gone down and costs have gone up.  \n",
            "\n",
            "That ends on my watch. \n",
            "\n",
            "Medicare is going to set higher standards for nursing homes and make sure your loved ones get the care they deserve and expect.' metadata={'doc_id': 10, 'pk': 461762135805394953, 'source': 'state_of_the_union.txt'}\n",
            "================================================================================\n",
            "page_content='Madam Speaker, Madam Vice President, our First Lady and Second Gentleman. Members of Congress and the Cabinet. Justices of the Supreme Court. My fellow Americans.  \n",
            "\n",
            "Last year COVID-19 kept us apart. This year we are finally together again. \n",
            "\n",
            "Tonight, we meet as Democrats Republicans and Independents. But most importantly as Americans. \n",
            "\n",
            "With a duty to one another to the American people to the Constitution. \n",
            "\n",
            "And with an unwavering resolve that freedom will always triumph over tyranny. \n",
            "\n",
            "Six days ago, Russia’s Vladimir Putin sought to shake the foundations of the free world thinking he could make it bend to his menacing ways. But he badly miscalculated. \n",
            "\n",
            "He thought he could roll into Ukraine and the world would roll over. Instead he met a wall of strength he never imagined. \n",
            "\n",
            "He met the Ukrainian people. \n",
            "\n",
            "From President Zelenskyy to every Ukrainian, their fearlessness, their courage, their determination, inspires the world. \n",
            "\n",
            "Groups of citizens blocking tanks with their bodies. Everyone from students to retirees teachers turned soldiers defending their homeland. \n",
            "\n",
            "In this struggle as President Zelenskyy said in his speech to the European Parliament “Light will win over darkness.” The Ukrainian Ambassador to the United States is here tonight. \n",
            "\n",
            "Let each of us here tonight in this Chamber send an unmistakable signal to Ukraine and to the world. \n",
            "\n",
            "Please rise if you are able and show that, Yes, we the United States of America stand with the Ukrainian people. \n",
            "\n",
            "Throughout our history we’ve learned this lesson when dictators do not pay a price for their aggression they cause more chaos.   \n",
            "\n",
            "They keep moving.   \n",
            "\n",
            "And the costs and the threats to America and the world keep rising.   \n",
            "\n",
            "That’s why the NATO Alliance was created to secure peace and stability in Europe after World War 2. \n",
            "\n",
            "The United States is a member along with 29 other nations. \n",
            "\n",
            "It matters. American diplomacy matters. American resolve matters. \n",
            "\n",
            "Putin’s latest attack on Ukraine was premeditated and unprovoked. \n",
            "\n",
            "He rejected repeated efforts at diplomacy. \n",
            "\n",
            "He thought the West and NATO wouldn’t respond. And he thought he could divide us at home. Putin was wrong. We were ready.  Here is what we did.   \n",
            "\n",
            "We prepared extensively and carefully.' metadata={'doc_id': 1, 'pk': 461762135805394944, 'source': 'state_of_the_union.txt'}\n",
            "================================================================================\n",
            "page_content='It’s time for Americans to get back to work and fill our great downtowns again.  People working from home can feel safe to begin to return to the office.   \n",
            "\n",
            "We’re doing that here in the federal government. The vast majority of federal workers will once again work in person. \n",
            "\n",
            "Our schools are open. Let’s keep it that way. Our kids need to be in school. \n",
            "\n",
            "And with 75% of adult Americans fully vaccinated and hospitalizations down by 77%, most Americans can remove their masks, return to work, stay in the classroom, and move forward safely. \n",
            "\n",
            "We achieved this because we provided free vaccines, treatments, tests, and masks. \n",
            "\n",
            "Of course, continuing this costs money. \n",
            "\n",
            "I will soon send Congress a request. \n",
            "\n",
            "The vast majority of Americans have used these tools and may want to again, so I expect Congress to pass it quickly.   \n",
            "\n",
            "Fourth, we will continue vaccinating the world.     \n",
            "\n",
            "We’ve sent 475 Million vaccine doses to 112 countries, more than any other nation. \n",
            "\n",
            "And we won’t stop. \n",
            "\n",
            "We have lost so much to COVID-19. Time with one another. And worst of all, so much loss of life. \n",
            "\n",
            "Let’s use this moment to reset. Let’s stop looking at COVID-19 as a partisan dividing line and see it for what it is: A God-awful disease.  \n",
            "\n",
            "Let’s stop seeing each other as enemies, and start seeing each other for who we really are: Fellow Americans.  \n",
            "\n",
            "We can’t change how divided we’ve been. But we can change how we move forward—on COVID-19 and other issues we must face together. \n",
            "\n",
            "I recently visited the New York City Police Department days after the funerals of Officer Wilbert Mora and his partner, Officer Jason Rivera. \n",
            "\n",
            "They were responding to a 9-1-1 call when a man shot and killed them with a stolen gun. \n",
            "\n",
            "Officer Mora was 27 years old. \n",
            "\n",
            "Officer Rivera was 22. \n",
            "\n",
            "Both Dominican Americans who’d grown up on the same streets they later chose to patrol as police officers.' metadata={'doc_id': 13, 'pk': 461762135805394956, 'source': 'state_of_the_union.txt'}\n",
            "================================================================================\n"
          ]
        }
      ],
      "source": [
        "query = \"What did the president say about Ketanji Brown Jackson?\"\n",
        "docs = vector_db.similarity_search(query)\n",
        "print(f\"{len(docs)} documents returned\")\n",
        "for doc in docs:\n",
        "    print(doc)\n",
        "    print(\"=\" * 80)  # Separator for clarity"
      ]
    },
    {
      "cell_type": "code",
      "source": [
        "query = \"Is Ukraine belong to NATO?\"\n",
        "docs = vector_db.similarity_search(query)\n",
        "print(f\"{len(docs)} documents returned\")\n",
        "for doc in docs:\n",
        "    print(doc)\n",
        "    print(\"=\" * 80)  # Separator for clarity"
      ],
      "metadata": {
        "id": "nnbN_4WHlt2V",
        "outputId": "23e6884a-09ce-4c87-ff5b-c235158bf4b7",
        "colab": {
          "base_uri": "https://localhost:8080/"
        }
      },
      "execution_count": 37,
      "outputs": [
        {
          "output_type": "stream",
          "name": "stdout",
          "text": [
            "4 documents returned\n",
            "page_content='Let me be clear, our forces are not engaged and will not engage in conflict with Russian forces in Ukraine.  \n",
            "\n",
            "Our forces are not going to Europe to fight in Ukraine, but to defend our NATO Allies – in the event that Putin decides to keep moving west.  \n",
            "\n",
            "For that purpose we’ve mobilized American ground forces, air squadrons, and ship deployments to protect NATO countries including Poland, Romania, Latvia, Lithuania, and Estonia. \n",
            "\n",
            "As I have made crystal clear the United States and our Allies will defend every inch of territory of NATO countries with the full force of our collective power.  \n",
            "\n",
            "And we remain clear-eyed. The Ukrainians are fighting back with pure courage. But the next few days weeks, months, will be hard on them.  \n",
            "\n",
            "Putin has unleashed violence and chaos.  But while he may make gains on the battlefield – he will pay a continuing high price over the long run. \n",
            "\n",
            "And a proud Ukrainian people, who have known 30 years  of independence, have repeatedly shown that they will not tolerate anyone who tries to take their country backwards.  \n",
            "\n",
            "To all Americans, I will be honest with you, as I’ve always promised. A Russian dictator, invading a foreign country, has costs around the world. \n",
            "\n",
            "And I’m taking robust action to make sure the pain of our sanctions  is targeted at Russia’s economy. And I will use every tool at our disposal to protect American businesses and consumers. \n",
            "\n",
            "Tonight, I can announce that the United States has worked with 30 other countries to release 60 Million barrels of oil from reserves around the world.  \n",
            "\n",
            "America will lead that effort, releasing 30 Million barrels from our own Strategic Petroleum Reserve. And we stand ready to do more if necessary, unified with our allies.  \n",
            "\n",
            "These steps will help blunt gas prices here at home. And I know the news about what’s happening can seem alarming. \n",
            "\n",
            "But I want you to know that we are going to be okay. \n",
            "\n",
            "When the history of this era is written Putin’s war on Ukraine will have left Russia weaker and the rest of the world stronger. \n",
            "\n",
            "While it shouldn’t have taken something so terrible for people around the world to see what’s at stake now everyone sees it clearly.' metadata={'doc_id': 3, 'pk': 461762275971432450, 'source': 'state_of_the_union.txt'}\n",
            "================================================================================\n",
            "page_content='Madam Speaker, Madam Vice President, our First Lady and Second Gentleman. Members of Congress and the Cabinet. Justices of the Supreme Court. My fellow Americans.  \n",
            "\n",
            "Last year COVID-19 kept us apart. This year we are finally together again. \n",
            "\n",
            "Tonight, we meet as Democrats Republicans and Independents. But most importantly as Americans. \n",
            "\n",
            "With a duty to one another to the American people to the Constitution. \n",
            "\n",
            "And with an unwavering resolve that freedom will always triumph over tyranny. \n",
            "\n",
            "Six days ago, Russia’s Vladimir Putin sought to shake the foundations of the free world thinking he could make it bend to his menacing ways. But he badly miscalculated. \n",
            "\n",
            "He thought he could roll into Ukraine and the world would roll over. Instead he met a wall of strength he never imagined. \n",
            "\n",
            "He met the Ukrainian people. \n",
            "\n",
            "From President Zelenskyy to every Ukrainian, their fearlessness, their courage, their determination, inspires the world. \n",
            "\n",
            "Groups of citizens blocking tanks with their bodies. Everyone from students to retirees teachers turned soldiers defending their homeland. \n",
            "\n",
            "In this struggle as President Zelenskyy said in his speech to the European Parliament “Light will win over darkness.” The Ukrainian Ambassador to the United States is here tonight. \n",
            "\n",
            "Let each of us here tonight in this Chamber send an unmistakable signal to Ukraine and to the world. \n",
            "\n",
            "Please rise if you are able and show that, Yes, we the United States of America stand with the Ukrainian people. \n",
            "\n",
            "Throughout our history we’ve learned this lesson when dictators do not pay a price for their aggression they cause more chaos.   \n",
            "\n",
            "They keep moving.   \n",
            "\n",
            "And the costs and the threats to America and the world keep rising.   \n",
            "\n",
            "That’s why the NATO Alliance was created to secure peace and stability in Europe after World War 2. \n",
            "\n",
            "The United States is a member along with 29 other nations. \n",
            "\n",
            "It matters. American diplomacy matters. American resolve matters. \n",
            "\n",
            "Putin’s latest attack on Ukraine was premeditated and unprovoked. \n",
            "\n",
            "He rejected repeated efforts at diplomacy. \n",
            "\n",
            "He thought the West and NATO wouldn’t respond. And he thought he could divide us at home. Putin was wrong. We were ready.  Here is what we did.   \n",
            "\n",
            "We prepared extensively and carefully.' metadata={'doc_id': 1, 'pk': 461762275971432448, 'source': 'state_of_the_union.txt'}\n",
            "================================================================================\n",
            "page_content='We spent months building a coalition of other freedom-loving nations from Europe and the Americas to Asia and Africa to confront Putin. \n",
            "\n",
            "I spent countless hours unifying our European allies. We shared with the world in advance what we knew Putin was planning and precisely how he would try to falsely justify his aggression.  \n",
            "\n",
            "We countered Russia’s lies with truth.   \n",
            "\n",
            "And now that he has acted the free world is holding him accountable. \n",
            "\n",
            "Along with twenty-seven members of the European Union including France, Germany, Italy, as well as countries like the United Kingdom, Canada, Japan, Korea, Australia, New Zealand, and many others, even Switzerland. \n",
            "\n",
            "We are inflicting pain on Russia and supporting the people of Ukraine. Putin is now isolated from the world more than ever. \n",
            "\n",
            "Together with our allies –we are right now enforcing powerful economic sanctions. \n",
            "\n",
            "We are cutting off Russia’s largest banks from the international financial system.  \n",
            "\n",
            "Preventing Russia’s central bank from defending the Russian Ruble making Putin’s $630 Billion “war fund” worthless.   \n",
            "\n",
            "We are choking off Russia’s access to technology that will sap its economic strength and weaken its military for years to come.  \n",
            "\n",
            "Tonight I say to the Russian oligarchs and corrupt leaders who have bilked billions of dollars off this violent regime no more. \n",
            "\n",
            "The U.S. Department of Justice is assembling a dedicated task force to go after the crimes of Russian oligarchs.  \n",
            "\n",
            "We are joining with our European allies to find and seize your yachts your luxury apartments your private jets. We are coming for your ill-begotten gains. \n",
            "\n",
            "And tonight I am announcing that we will join our allies in closing off American air space to all Russian flights – further isolating Russia – and adding an additional squeeze –on their economy. The Ruble has lost 30% of its value. \n",
            "\n",
            "The Russian stock market has lost 40% of its value and trading remains suspended. Russia’s economy is reeling and Putin alone is to blame. \n",
            "\n",
            "Together with our allies we are providing support to the Ukrainians in their fight for freedom. Military assistance. Economic assistance. Humanitarian assistance. \n",
            "\n",
            "We are giving more than $1 Billion in direct assistance to Ukraine. \n",
            "\n",
            "And we will continue to aid the Ukrainian people as they defend their country and to help ease their suffering.' metadata={'doc_id': 2, 'pk': 461762275971432449, 'source': 'state_of_the_union.txt'}\n",
            "================================================================================\n",
            "page_content='We see the unity among leaders of nations and a more unified Europe a more unified West. And we see unity among the people who are gathering in cities in large crowds around the world even in Russia to demonstrate their support for Ukraine.  \n",
            "\n",
            "In the battle between democracy and autocracy, democracies are rising to the moment, and the world is clearly choosing the side of peace and security. \n",
            "\n",
            "This is a real test. It’s going to take time. So let us continue to draw inspiration from the iron will of the Ukrainian people. \n",
            "\n",
            "To our fellow Ukrainian Americans who forge a deep bond that connects our two nations we stand with you. \n",
            "\n",
            "Putin may circle Kyiv with tanks, but he will never gain the hearts and souls of the Ukrainian people. \n",
            "\n",
            "He will never extinguish their love of freedom. He will never weaken the resolve of the free world. \n",
            "\n",
            "We meet tonight in an America that has lived through two of the hardest years this nation has ever faced. \n",
            "\n",
            "The pandemic has been punishing. \n",
            "\n",
            "And so many families are living paycheck to paycheck, struggling to keep up with the rising cost of food, gas, housing, and so much more. \n",
            "\n",
            "I understand. \n",
            "\n",
            "I remember when my Dad had to leave our home in Scranton, Pennsylvania to find work. I grew up in a family where if the price of food went up, you felt it. \n",
            "\n",
            "That’s why one of the first things I did as President was fight to pass the American Rescue Plan.  \n",
            "\n",
            "Because people were hurting. We needed to act, and we did. \n",
            "\n",
            "Few pieces of legislation have done more in a critical moment in our history to lift us out of crisis. \n",
            "\n",
            "It fueled our efforts to vaccinate the nation and combat COVID-19. It delivered immediate economic relief for tens of millions of Americans.  \n",
            "\n",
            "Helped put food on their table, keep a roof over their heads, and cut the cost of health insurance. \n",
            "\n",
            "And as my Dad used to say, it gave people a little breathing room. \n",
            "\n",
            "And unlike the $2 Trillion tax cut passed in the previous administration that benefitted the top 1% of Americans, the American Rescue Plan helped working people—and left no one behind. \n",
            "\n",
            "And it worked. It created jobs. Lots of jobs.' metadata={'doc_id': 4, 'pk': 461762275971432451, 'source': 'state_of_the_union.txt'}\n",
            "================================================================================\n"
          ]
        }
      ]
    },
    {
      "cell_type": "markdown",
      "metadata": {
        "id": "2VKpjHFhi59F"
      },
      "source": [
        "## Answering Questions"
      ]
    },
    {
      "cell_type": "markdown",
      "metadata": {
        "id": "vewLiz7oi59F"
      },
      "source": [
        "### Automate the RAG pipeline\n",
        "\n",
        "Build a RAG chain with the model and the document retriever.\n",
        "\n",
        "First we create the prompts for Granite to perform the RAG query. We use the Granite chat template and supply the placeholder values that the LangChain RAG pipeline will replace.\n",
        "\n",
        "Next, we construct the RAG pipeline by using the Granite prompt templates previously created."
      ]
    },
    {
      "cell_type": "code",
      "execution_count": 38,
      "metadata": {
        "id": "0vNztCpgi59F"
      },
      "outputs": [],
      "source": [
        "from ibm_granite_community.langchain.chains.combine_documents import create_stuff_documents_chain\n",
        "from langchain_classic.chains.retrieval import create_retrieval_chain\n",
        "from langchain_core.prompts import ChatPromptTemplate\n",
        "\n",
        "# Create a Granite prompt for question-answering with the retrieved context\n",
        "prompt_template = ChatPromptTemplate.from_template(\"{input}\")\n",
        "\n",
        "# Assemble the retrieval-augmented generation chain\n",
        "combine_docs_chain = create_stuff_documents_chain(\n",
        "    llm=model,\n",
        "    prompt=prompt_template,\n",
        ")\n",
        "rag_chain = create_retrieval_chain(\n",
        "    retriever=vector_db.as_retriever(),\n",
        "    combine_docs_chain=combine_docs_chain,\n",
        ")"
      ]
    },
    {
      "cell_type": "markdown",
      "metadata": {
        "jupyter": {
          "outputs_hidden": false
        },
        "pycharm": {
          "name": "#%% md\n"
        },
        "id": "3CLFySVOi59F"
      },
      "source": [
        "### Generate a retrieval-augmented response to a question"
      ]
    },
    {
      "cell_type": "markdown",
      "metadata": {
        "jupyter": {
          "outputs_hidden": false
        },
        "pycharm": {
          "name": "#%% md\n"
        },
        "id": "HiBjwRsAi59F"
      },
      "source": [
        "Use the RAG chain to process a question. The document chunks relevant to that question are retrieved and used as context."
      ]
    },
    {
      "cell_type": "code",
      "execution_count": 39,
      "metadata": {
        "jupyter": {
          "outputs_hidden": false
        },
        "pycharm": {
          "name": "#%%\n"
        },
        "id": "9J6uulhCi59F",
        "outputId": "a37d58f8-d433-4279-f01d-0937137dc392",
        "colab": {
          "base_uri": "https://localhost:8080/"
        }
      },
      "outputs": [
        {
          "output_type": "stream",
          "name": "stdout",
          "text": [
            "Ukraine is not currently a member of NATO. However, it is one of the country's\n",
            "that the NATO is defending.\n"
          ]
        }
      ],
      "source": [
        "from ibm_granite_community.notebook_utils import wrap_text\n",
        "\n",
        "output = rag_chain.invoke({\"input\": query})\n",
        "\n",
        "print(wrap_text(output['answer']))"
      ]
    }
  ],
  "metadata": {
    "language_info": {
      "name": "python"
    },
    "colab": {
      "provenance": []
    },
    "kernelspec": {
      "name": "python3",
      "display_name": "Python 3"
    }
  },
  "nbformat": 4,
  "nbformat_minor": 0
}